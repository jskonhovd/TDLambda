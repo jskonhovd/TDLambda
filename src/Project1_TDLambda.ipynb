{
 "cells": [
  {
   "cell_type": "code",
   "execution_count": 1,
   "metadata": {
    "collapsed": false
   },
   "outputs": [
    {
     "name": "stdout",
     "output_type": "stream",
     "text": [
      "Populating the interactive namespace from numpy and matplotlib\n"
     ]
    }
   ],
   "source": [
    "%pylab inline\n",
    "pylab.rcParams['figure.figsize'] = (12.0, 8.0)\n",
    "from matplotlib import pyplot as plt\n",
    "from sklearn.metrics import mean_squared_error\n",
    "import numpy as np\n",
    "import random\n",
    "\n",
    "from numpy import arange\n",
    "import bisect"
   ]
  },
  {
   "cell_type": "markdown",
   "metadata": {},
   "source": [
    "### Generate Bound Walk Examples\n",
    "\n",
    "In this section, we will generate our random walk examples.\n",
    "\n",
    "In order to obtain statistically reliable, results, 100 training sets, each consisting of 10 sequences, were constructed for use by all learning procedures."
   ]
  },
  {
   "cell_type": "code",
   "execution_count": 70,
   "metadata": {
    "collapsed": false
   },
   "outputs": [],
   "source": [
    "def generateBoundedWalk():\n",
    "    ret = \"\"\n",
    "    d = {0:'A',1:'B',2:'C',3:'D',4:'E',5:'F',6:'G'}\n",
    "    state = 3\n",
    "    ret += d[state]\n",
    "    count = 1\n",
    "    while((d[state] is not 'A') and(d[state] is not 'G')):\n",
    "        flip = random.randint(0, 1)\n",
    "        if(flip == 0):\n",
    "            state += -1\n",
    "            ret += d[state]\n",
    "            count = count + 1\n",
    "        else:\n",
    "            state += 1\n",
    "            ret += d[state]\n",
    "            count = count + 1\n",
    "    if((ret[-1] == 'A') or (ret[-1] == 'G')):\n",
    "        return ret\n",
    "    \n",
    "    return \"\"\n",
    "          \n",
    "    \n",
    "    "
   ]
  },
  {
   "cell_type": "code",
   "execution_count": 71,
   "metadata": {
    "collapsed": false
   },
   "outputs": [],
   "source": [
    "def generateBoundedWalks(size_of_set = 10):\n",
    "    ret = []\n",
    "    while(len(ret) < size_of_set):\n",
    "        walk = generateBoundedWalk()\n",
    "        if(len(walk) == 10):\n",
    "            ret.append(walk)\n",
    "     \n",
    "    return(ret)\n",
    "        "
   ]
  },
  {
   "cell_type": "code",
   "execution_count": 72,
   "metadata": {
    "collapsed": false
   },
   "outputs": [],
   "source": [
    "def generateSetsofBoundedWalks(number_of_sets = 100, size_of_set = 10):\n",
    "    ret = []\n",
    "    while(len(ret) < number_of_sets):\n",
    "        st = generateBoundedWalks(size_of_set)\n",
    "        ret.append(st)\n",
    "    \n",
    "    return ret\n",
    "        "
   ]
  },
  {
   "cell_type": "code",
   "execution_count": 73,
   "metadata": {
    "collapsed": false
   },
   "outputs": [
    {
     "name": "stdout",
     "output_type": "stream",
     "text": [
      "10\n",
      "DEDEDCDEFG\n",
      "DEDCDEDCBA\n",
      "DCDCBCDEFG\n",
      "DEDEFEDEFG\n",
      "DEDEFEDEFG\n",
      "DCDCDCDCBA\n",
      "DEDEFEDCBA\n",
      "DEDEDEDEFG\n",
      "DEDCBCDEFG\n",
      "DCDEDEDEFG\n"
     ]
    }
   ],
   "source": [
    "walks = generateBoundedWalks()\n",
    "print(len(walks))\n",
    "for item in walks:\n",
    "    print(item)"
   ]
  },
  {
   "cell_type": "markdown",
   "metadata": {},
   "source": [
    "### Implement TD Lambda algorithm\n",
    "\n",
    "In this section, we will implement TD lambda."
   ]
  },
  {
   "cell_type": "code",
   "execution_count": 74,
   "metadata": {
    "collapsed": true
   },
   "outputs": [],
   "source": [
    "def convertAlphaStateToVector(state):\n",
    "    #d = {0:'A',1:'B',2:'C',3:'D',4:'E',5:'F',6:'G'}\n",
    "    switcher = {\n",
    "        'A': np.array([0.]),\n",
    "        'B': np.array([1.,0.,0.,0.,0.]),\n",
    "        'C': np.array([0.,1.,0.,0.,0.]),\n",
    "        'D': np.array([0.,0.,1.,0.,0.]),\n",
    "        'E': np.array([0.,0.,0.,1.,0.]),\n",
    "        'F': np.array([0.,0.,0.,0.,1.]),\n",
    "        'G': np.array([1.]),\n",
    "    }\n",
    "    # Get the function from switcher dictionary\n",
    "    func = switcher[state]\n",
    "    # Execute the function\n",
    "    return func\n",
    "\n",
    "def convertAlphaSeqToVectorSeq(walk):\n",
    "    ret = []\n",
    "    for i in range(len(walk)):\n",
    "        ret.append(convertAlphaStateToVector(walk[i]))\n",
    "        \n",
    "    #print(ret)\n",
    "    return ret"
   ]
  },
  {
   "cell_type": "code",
   "execution_count": 75,
   "metadata": {
    "collapsed": false
   },
   "outputs": [],
   "source": [
    "def prediction(w, x):\n",
    "    if((x == np.array([1.])).all()):\n",
    "        #print('G')\n",
    "        return 1\n",
    "    if((x == np.array([0.])).all()):\n",
    "        #print('A')\n",
    "        return 0\n",
    "    return w.T.dot(x)\n",
    "\n",
    "def gradient(w, P, x):\n",
    "    return x\n",
    "\n",
    "\n",
    "def cal_delta_w(X, t, w_t, alpha, vlambda):    \n",
    "        P_t = prediction(w_t, X[t-1]) #t -1 is t, array nonsense\n",
    "        P_t_1 = prediction(w_t, X[t])   # t is t+1, in the array\n",
    "        pred = (P_t_1 - P_t)\n",
    "        sum_w = np.array([0.,0.,0.,0.,0.])\n",
    "        for k in range(1, t+1):\n",
    "            cal_lambda = pow(vlambda, t-k)\n",
    "            g = gradient(w_t, P_t, X[k-1]) #k -1 is k, array nonsense\n",
    "            sum_w += cal_lambda * g\n",
    "            \n",
    "        return(alpha*pred*sum_w)\n",
    "\n",
    "def td_lambda(w, X, alpha, vlambda): \n",
    "    delta_w = np.array([0.,0.,0.,0,0.])\n",
    "    for t in range(1,len(X)):\n",
    "        tmp = cal_delta_w(X, t, w, alpha, vlambda)\n",
    "        delta_w += tmp\n",
    "        #w = w + delta_w\n",
    "    ret = w + delta_w\n",
    "    return ret\n",
    "\n",
    "\n",
    "def td_lambda_ex1(w, X, alpha, vlambda): \n",
    "    delta_w = np.array([0.,0.,0.,0,0.])\n",
    "    for t in range(1,len(X)):\n",
    "        tmp = cal_delta_w(X, t, w, alpha, vlambda)         \n",
    "        delta_w += tmp\n",
    "        \n",
    "    return delta_w\n",
    "\n",
    "def td_lambda_ex2(w, X, alpha, vlambda): \n",
    "    delta_w = np.array([0.,0.,0.,0,0.])\n",
    "    for t in range(1,len(X)):\n",
    "        tmp = cal_delta_w(X, t, w, alpha, vlambda)\n",
    "        delta_w += tmp\n",
    "        #w = w + delta_w\n",
    "    ret = w + delta_w\n",
    "    return ret\n"
   ]
  },
  {
   "cell_type": "markdown",
   "metadata": {},
   "source": [
    "## Experiment 1\n",
    "\n",
    "### Figure 3\n",
    "Average error on the random-walk problem under repeated presentations.\n",
    "All data are from TD(A) with different values of A. The dependent measure\n",
    "used is the RMS error between the ideal predictions and those found by the\n",
    "learning procedure after being repeatedly presented with the training set\n",
    "until convergence of the weight vector. This measure was averaged over\n",
    "100 training sets to produce the data shown. The A = 1 data point is\n",
    "the performance level attained by the Widrow-Hoff procedure. For each\n",
    "data point, the standard error is approximately ~ = 0.01, so the differences\n",
    "between the Widrow-Hoff procedure and the other procedures are highly\n",
    "significant.\n",
    "\n"
   ]
  },
  {
   "cell_type": "code",
   "execution_count": 76,
   "metadata": {
    "collapsed": false
   },
   "outputs": [],
   "source": [
    "walks = generateSetsofBoundedWalks()"
   ]
  },
  {
   "cell_type": "code",
   "execution_count": 46,
   "metadata": {
    "collapsed": false
   },
   "outputs": [
    {
     "name": "stdout",
     "output_type": "stream",
     "text": [
      "[ 0.1924677   0.67403831  0.78894432  0.05759048  0.37275416]\n"
     ]
    }
   ],
   "source": [
    "print(np.random.rand(5,))"
   ]
  },
  {
   "cell_type": "code",
   "execution_count": 60,
   "metadata": {
    "collapsed": false
   },
   "outputs": [],
   "source": [
    "def isConvergence(w1, w2, count):\n",
    "    if(count > 100):\n",
    "        return False\n",
    "    else:\n",
    "        RMSE = mean_squared_error(w1, w2)**0.5\n",
    "        #print(\"{0}\".format(RMSE))\n",
    "        if(RMSE < 0.01):\n",
    "            #print(\"{0}\".format(RMSE))\n",
    "            return False\n",
    "        return True"
   ]
  },
  {
   "cell_type": "code",
   "execution_count": 64,
   "metadata": {
    "collapsed": false
   },
   "outputs": [
    {
     "name": "stdout",
     "output_type": "stream",
     "text": [
      "Lambda: 0.0, avg: 0.14790596765439903, std:0.02155353859844532\n",
      "Lambda: 0.1, avg: 0.1431313820889283, std:0.023772887274913872\n",
      "Lambda: 0.2, avg: 0.1380985246847588, std:0.026482306463359997\n",
      "Lambda: 0.3, avg: 0.13353852608832842, std:0.029275907741720307\n",
      "Lambda: 0.4, avg: 0.12988498702874907, std:0.03276025210975505\n",
      "Lambda: 0.5, avg: 0.12755766472447147, std:0.03737253064532188\n",
      "Lambda: 0.6, avg: 0.12686808641444322, std:0.042486970748134276\n",
      "Lambda: 0.7, avg: 0.12867107609006587, std:0.04817388566098725\n",
      "Lambda: 0.8, avg: 0.13441665196873567, std:0.055505158930919805\n",
      "Lambda: 0.9, avg: 0.14754128074580658, std:0.06532011145785817\n",
      "Lambda: 1.0, avg: 0.17895435029318793, std:0.08117969111838859\n",
      "[(0.0, 0.14790596765439903), (0.1, 0.14313138208892831), (0.2, 0.13809852468475881), (0.3, 0.13353852608832842), (0.4, 0.12988498702874907), (0.5, 0.12755766472447147), (0.6, 0.12686808641444322), (0.7, 0.12867107609006587), (0.8, 0.13441665196873567), (0.9, 0.14754128074580658), (1.0, 0.17895435029318793)]\n"
     ]
    }
   ],
   "source": [
    "def exp_1():\n",
    "    actual = [1./6., 1./3., 1./2., 2./3., 5./6.]\n",
    "    #w = np.array([0.5,0.5,0.5,0.5,0.5])\n",
    "    w = np.random.rand(5,)\n",
    "    lambdas = [0., 0.1, 0.2, 0.3, 0.4, 0.5, 0.6, 0.7, 0.8, 0.9, 1.]\n",
    "    alpha = 0.01\n",
    "    #training_sets = generateSetsofBoundedWalks()\n",
    "    training_sets = walks  \n",
    "    ret = []\n",
    "    for lambda_e in lambdas:\n",
    "        cal = []\n",
    "        for train in  training_sets: \n",
    "            w_e = w\n",
    "            delta_w = np.array([0.,0.,0.,0,0.])\n",
    "            w1 = w_e\n",
    "            w2 = delta_w\n",
    "            count = 0\n",
    "            while(isConvergence(w1, w2, count)):\n",
    "                w1 = w_e\n",
    "                #print(\"HEERE\")\n",
    "                #rint(train)\n",
    "                dw = []\n",
    "                for seqence in train:\n",
    "                    X = convertAlphaSeqToVectorSeq(seqence)\n",
    "                    delta_w = td_lambda_ex1(w1, X, alpha,lambda_e)                 \n",
    "                    w_e = w_e + delta_w   #print(delta_w)        \n",
    "                w2 = w_e\n",
    "                \n",
    "                count = count + 1\n",
    "            RMSE = mean_squared_error(actual, w_e)**0.5\n",
    "            cal.append(RMSE)\n",
    "        \n",
    "        cal = np.array(cal)\n",
    "        print(\"Lambda: {0}, avg: {1}, std:{2}\".format(lambda_e, np.average(cal), np.std(cal)))\n",
    "        ret.append((lambda_e, np.average(cal)))\n",
    "    return ret\n",
    "\n",
    "v = exp_1()\n",
    "\n",
    "print(v)"
   ]
  },
  {
   "cell_type": "code",
   "execution_count": 65,
   "metadata": {
    "collapsed": false
   },
   "outputs": [
    {
     "name": "stdout",
     "output_type": "stream",
     "text": [
      "[(0.0, 0.14790596765439903), (0.1, 0.14313138208892831), (0.2, 0.13809852468475881), (0.3, 0.13353852608832842), (0.4, 0.12988498702874907), (0.5, 0.12755766472447147), (0.6, 0.12686808641444322), (0.7, 0.12867107609006587), (0.8, 0.13441665196873567), (0.9, 0.14754128074580658), (1.0, 0.17895435029318793)]\n",
      "(0.0, 0.1, 0.2, 0.3, 0.4, 0.5, 0.6, 0.7, 0.8, 0.9, 1.0)\n"
     ]
    },
    {
     "data": {
      "image/png": "[encoded data removed]",
      "text/plain": [
       "<matplotlib.figure.Figure at 0x7ff3d429eda0>"
      ]
     },
     "metadata": {},
     "output_type": "display_data"
    }
   ],
   "source": [
    "def figure3_plot_1(x,y, ext_x = 0.1, ext_y = 0.02):\n",
    "    fig = plt.figure()\n",
    "    #fig.suptitle('Figure 3', fontsize=14, fontweight='bold')\n",
    "    ax = fig.add_subplot(111)\n",
    "    ax.set_title('Figure 3: Average error on the random-walk problem under repeated presentations.')\n",
    "\n",
    "    ax.set_xlabel('Lambda')\n",
    "    ax.set_ylabel('Error using Best Alpha')\n",
    "\n",
    "    \n",
    "    ax.plot(x,y,marker='o')\n",
    "    plt.xlim(min(x)-ext_x,max(x)+ext_x)\n",
    "    plt.ylim(min(y)-ext_y,max(y)+ext_y)\n",
    "    plt.show()\n",
    "    \n",
    "    \n",
    "print(v)    \n",
    "x,y = zip(*v)\n",
    "print(x)\n",
    "figure3_plot_1(x, y)"
   ]
  },
  {
   "cell_type": "markdown",
   "metadata": {},
   "source": [
    "## Experiment 2\n",
    "\n",
    "The second experiment concerns the question of learning rate when the\n",
    "training set is presented just once rather than repeatedly until convergence.\n",
    "Although it is difficult to prove a theorem concerning learning rate, it is easy to\n",
    "perform the relevant computational experiment. We presented the same data\n",
    "to the learning procedures, again for several values of lambda, with the following\n",
    "procedural changes. First, each training set was presented once to each procedure.\n",
    "Second, weight updates were performed after each sequence, as in (1),\n",
    "rather than after each complete training set. Third, each learning procedure\n",
    "was applied with a range of values for the learning-rate parameter a. Fourth,\n",
    "so that there was no bias either toward right-side or left-side terminations, all\n",
    "components of the weight vector were initially set to 0.5.\n",
    "\n",
    "\n",
    "### Figure 4\n",
    "Average error on random walk problem after experiencing 10 sequences.\n",
    "All data are from TD(lambda) with different values of alpha and Lambda. The dependent\n",
    "measure is the RMS error between the ideal predictions and those found\n",
    "by the learning procedure after a single presentation of a training set.\n",
    "This measure was averaged over 10O training sets. The lamba = 1 data points\n",
    "represent performances of the Widrow-Hoff supervised-learning procedure.\n",
    "\n",
    "### Figure 5\n",
    "Average error at best Alpha value on random-walk problem. Each data point\n",
    "represents the average over 100 training sets of the error in the estimates\n",
    "found by TD(Lambda)~), for particular A and a values, after a single presentation\n",
    "of a training set. The Lambda value is given by the horizontal coordinate. The alpha\n",
    "value was selected from those shown in Figure 4 to yield the lowest error\n",
    "for that lambda, value.\n"
   ]
  },
  {
   "cell_type": "code",
   "execution_count": 66,
   "metadata": {
    "collapsed": true
   },
   "outputs": [],
   "source": [
    "walks = walks  "
   ]
  },
  {
   "cell_type": "markdown",
   "metadata": {},
   "source": [
    "### Figure 4"
   ]
  },
  {
   "cell_type": "code",
   "execution_count": 77,
   "metadata": {
    "collapsed": false
   },
   "outputs": [
    {
     "name": "stdout",
     "output_type": "stream",
     "text": [
      "Lambda: 0.0, avg: 5.845480899444359, std:9.707668629962217\n",
      "[(0.0, 5.8454808994443592)]\n"
     ]
    }
   ],
   "source": [
    "def exp_2():\n",
    "    actual = [1./6., 1./3., 1./2., 2./3., 5./6.]\n",
    "    w = np.array([0.5,0.5,0.5,0.5,0.5])\n",
    "    #lambdas = [0., 0.1, 0.3, 0.5, 0.7, 0.9, 1.0]\n",
    "    lambdas = [0.0]\n",
    "    alpha = 0.60\n",
    "    training_sets = walks  \n",
    "    ret = []\n",
    "    \n",
    "    for lambda_e in lambdas:\n",
    "        cal = []     \n",
    "        for train in  training_sets:             \n",
    "            w_e = w\n",
    "            for sequence in train:\n",
    "                X = convertAlphaSeqToVectorSeq(sequence)\n",
    "                #print(sequence)\n",
    "                w_e = td_lambda_ex2(w_e, X, alpha, lambda_e)\n",
    "            #print(w_e)\n",
    "            RMSE = mean_squared_error(actual, w_e)**0.5\n",
    "            cal.append(RMSE)     \n",
    "        cal = np.array(cal)\n",
    "        print(\"Lambda: {0}, avg: {1}, std:{2}\".format(lambda_e, np.average(cal), np.std(cal)))\n",
    "        ret.append((lambda_e, np.average(cal)))\n",
    "    return ret\n",
    "\n",
    "g = exp_2()\n",
    "\n",
    "print(g)"
   ]
  },
  {
   "cell_type": "code",
   "execution_count": 78,
   "metadata": {
    "collapsed": false
   },
   "outputs": [
    {
     "name": "stdout",
     "output_type": "stream",
     "text": [
      "Lambda: 0.0, alpha:0.0, avg: 0.23570226039551584, std:0.0\n",
      "Lambda: 0.0, alpha:0.05, avg: 0.1745416402187282, std:0.0016590531814000872\n",
      "Lambda: 0.0, alpha:0.1, avg: 0.12949453298090613, std:0.005877659747091965\n",
      "Lambda: 0.0, alpha:0.15, avg: 0.0997320833383856, std:0.01264588324818802\n",
      "Lambda: 0.0, alpha:0.2, avg: 0.08477501607728533, std:0.020861950339101328\n",
      "Lambda: 0.0, alpha:0.25, avg: 0.08286974481374415, std:0.02903946674814081\n",
      "Lambda: 0.0, alpha:0.3, avg: 0.09133585009007017, std:0.03738688240257609\n",
      "Lambda: 0.0, alpha:0.35, avg: 0.11019892335651559, std:0.049828720354707944\n",
      "Lambda: 0.0, alpha:0.4, avg: 0.15358406451920473, std:0.08202690692613797\n",
      "Lambda: 0.0, alpha:0.45, avg: 0.28030608383948996, std:0.25315855724200365\n",
      "Lambda: 0.0, alpha:0.5, avg: 0.7162517186368481, std:0.9435089360482354\n",
      "Lambda: 0.0, alpha:0.55, avg: 2.0739372455624387, std:3.2067804719355886\n",
      "Lambda: 0.0, alpha:0.6, avg: 5.845480899444359, std:9.707668629962217\n",
      "Lambda: 0.1, alpha:0.0, avg: 0.23570226039551584, std:0.0\n",
      "Lambda: 0.1, alpha:0.05, avg: 0.1715743785240976, std:0.0017945404096557955\n",
      "Lambda: 0.1, alpha:0.1, avg: 0.12557140809635592, std:0.006753624382210962\n",
      "Lambda: 0.1, alpha:0.15, avg: 0.09643342338949777, std:0.014705694697686062\n",
      "Lambda: 0.1, alpha:0.2, avg: 0.08299898893646308, std:0.023899845121728106\n",
      "Lambda: 0.1, alpha:0.25, avg: 0.08258565720700135, std:0.03217079263371251\n",
      "Lambda: 0.1, alpha:0.3, avg: 0.09130084062286917, std:0.039222650234011065\n",
      "Lambda: 0.1, alpha:0.35, avg: 0.10694792276146955, std:0.04717488473666225\n",
      "Lambda: 0.1, alpha:0.4, avg: 0.13361758412748917, std:0.06083004882413924\n",
      "Lambda: 0.1, alpha:0.45, avg: 0.19242251598017548, std:0.10772611218525556\n",
      "Lambda: 0.1, alpha:0.5, avg: 0.3542995800531351, std:0.33825030787076876\n",
      "Lambda: 0.1, alpha:0.55, avg: 0.8508156149088519, std:1.1442524371642904\n",
      "Lambda: 0.1, alpha:0.6, avg: 2.241030860428682, std:3.5179233441226363\n",
      "Lambda: 0.2, alpha:0.0, avg: 0.23570226039551584, std:0.0\n",
      "Lambda: 0.2, alpha:0.05, avg: 0.1683524166439758, std:0.00202489866635198\n",
      "Lambda: 0.2, alpha:0.1, avg: 0.12152231631694094, std:0.007980963844965945\n",
      "Lambda: 0.2, alpha:0.15, avg: 0.09344829946767386, std:0.017424122884336264\n",
      "Lambda: 0.2, alpha:0.2, avg: 0.08214136263835665, std:0.02773411956675709\n",
      "Lambda: 0.2, alpha:0.25, avg: 0.08385088221869158, std:0.036260716499186774\n",
      "Lambda: 0.2, alpha:0.3, avg: 0.09362162876934745, std:0.04281991930761589\n",
      "Lambda: 0.2, alpha:0.35, avg: 0.10833689661212739, std:0.048939071775851654\n",
      "Lambda: 0.2, alpha:0.4, avg: 0.12904716092840737, std:0.057054333984720325\n",
      "Lambda: 0.2, alpha:0.45, avg: 0.16478277946747613, std:0.07267248377136455\n",
      "Lambda: 0.2, alpha:0.5, avg: 0.24269267934784725, std:0.14632310190001252\n",
      "Lambda: 0.2, alpha:0.55, avg: 0.4513470153235235, std:0.45643860352745547\n",
      "Lambda: 0.2, alpha:0.6, avg: 1.022071753856444, std:1.431626332273739\n",
      "Lambda: 0.3, alpha:0.0, avg: 0.23570226039551584, std:0.0\n",
      "Lambda: 0.3, alpha:0.05, avg: 0.16485680130286223, std:0.0025149853528211776\n",
      "Lambda: 0.3, alpha:0.1, avg: 0.11746355271795814, std:0.009795847418059086\n",
      "Lambda: 0.3, alpha:0.15, avg: 0.09108561201251343, std:0.021051744944936234\n",
      "Lambda: 0.3, alpha:0.2, avg: 0.08263934826579851, std:0.03251687109846499\n",
      "Lambda: 0.3, alpha:0.25, avg: 0.08704118087222995, std:0.041310662660283694\n",
      "Lambda: 0.3, alpha:0.3, avg: 0.09834768404548397, std:0.04774369863283301\n",
      "Lambda: 0.3, alpha:0.35, avg: 0.11313548566582143, std:0.053239838284504584\n",
      "Lambda: 0.3, alpha:0.4, avg: 0.13151313878732288, std:0.05920488601487079\n",
      "Lambda: 0.3, alpha:0.45, avg: 0.15787933785829, std:0.06742181452428456\n",
      "Lambda: 0.3, alpha:0.5, avg: 0.20542229585899643, std:0.08983569176890917\n",
      "Lambda: 0.3, alpha:0.55, avg: 0.31343772947109394, std:0.20419707835713038\n",
      "Lambda: 0.3, alpha:0.6, avg: 0.6035411135568816, std:0.6145489648865218\n",
      "Lambda: 0.4, alpha:0.0, avg: 0.23570226039551584, std:0.0\n",
      "Lambda: 0.4, alpha:0.05, avg: 0.16109108627378765, std:0.0034615480995245124\n",
      "Lambda: 0.4, alpha:0.1, avg: 0.1136302015925665, std:0.012527395561217288\n",
      "Lambda: 0.4, alpha:0.15, avg: 0.08987004313741793, std:0.02590992863091546\n",
      "Lambda: 0.4, alpha:0.2, avg: 0.0851808785825747, std:0.03844609692598263\n",
      "Lambda: 0.4, alpha:0.25, avg: 0.09278322938258603, std:0.04743900791912432\n",
      "Lambda: 0.4, alpha:0.3, avg: 0.10593068565392239, std:0.053928379276423154\n",
      "Lambda: 0.4, alpha:0.35, avg: 0.12135036891195225, std:0.059371513134698226\n",
      "Lambda: 0.4, alpha:0.4, avg: 0.13897064436982343, std:0.06466132974888404\n",
      "Lambda: 0.4, alpha:0.45, avg: 0.16131496951006508, std:0.07068806487766235\n",
      "Lambda: 0.4, alpha:0.5, avg: 0.19543638712712005, std:0.08043740716419003\n",
      "Lambda: 0.4, alpha:0.55, avg: 0.26101134309883856, std:0.11941040227744912\n",
      "Lambda: 0.4, alpha:0.6, avg: 0.4251878687025215, std:0.28651075350002986\n",
      "Lambda: 0.5, alpha:0.0, avg: 0.23570226039551584, std:0.0\n",
      "Lambda: 0.5, alpha:0.05, avg: 0.1571123738371961, std:0.005066422314605048\n",
      "Lambda: 0.5, alpha:0.1, avg: 0.11047526938176111, std:0.016614170136830583\n",
      "Lambda: 0.5, alpha:0.15, avg: 0.0906672311359965, std:0.032355715361883274\n",
      "Lambda: 0.5, alpha:0.2, avg: 0.09079543391224541, std:0.04568149193413216\n",
      "Lambda: 0.5, alpha:0.25, avg: 0.10200349477059185, std:0.05476715279723051\n",
      "Lambda: 0.5, alpha:0.3, avg: 0.11718565590934894, std:0.06145368441088309\n",
      "Lambda: 0.5, alpha:0.35, avg: 0.133651451772771, std:0.06712918667344858\n",
      "Lambda: 0.5, alpha:0.4, avg: 0.1514873799640825, std:0.07238660604155583\n",
      "Lambda: 0.5, alpha:0.45, avg: 0.17245151565719744, std:0.0776844308536356\n",
      "Lambda: 0.5, alpha:0.5, avg: 0.20072305160808201, std:0.08431376613671136\n",
      "Lambda: 0.5, alpha:0.55, avg: 0.24699946084382415, std:0.10047904123875885\n",
      "Lambda: 0.5, alpha:0.6, avg: 0.3461455060077444, std:0.16886509362106378\n",
      "Lambda: 0.6, alpha:0.0, avg: 0.23570226039551584, std:0.0\n",
      "Lambda: 0.6, alpha:0.05, avg: 0.15309918190517025, std:0.007609380676508502\n",
      "Lambda: 0.6, alpha:0.1, avg: 0.10883656295014413, std:0.022614452853533373\n",
      "Lambda: 0.6, alpha:0.15, avg: 0.09485776142098004, std:0.0406471484270326\n",
      "Lambda: 0.6, alpha:0.2, avg: 0.10092869693930762, std:0.05423012393399593\n",
      "Lambda: 0.6, alpha:0.25, avg: 0.11594690565276831, std:0.06339550151163445\n",
      "Lambda: 0.6, alpha:0.3, avg: 0.13334566642571904, std:0.07041459731661563\n",
      "Lambda: 0.6, alpha:0.35, avg: 0.15137070047543874, std:0.07640145125989262\n",
      "Lambda: 0.6, alpha:0.4, avg: 0.17042884224162985, std:0.0816940352497321\n",
      "Lambda: 0.6, alpha:0.45, avg: 0.19200488918458405, std:0.08644761639301123\n",
      "Lambda: 0.6, alpha:0.5, avg: 0.21880019024079048, std:0.09178610406997643\n",
      "Lambda: 0.6, alpha:0.55, avg: 0.25709331827358617, std:0.10244343447172911\n",
      "Lambda: 0.6, alpha:0.6, avg: 0.32558845523211793, std:0.13979211042590658\n",
      "Lambda: 0.7, alpha:0.0, avg: 0.23570226039551584, std:0.0\n",
      "Lambda: 0.7, alpha:0.05, avg: 0.14949118426153749, std:0.011569449806564101\n",
      "Lambda: 0.7, alpha:0.1, avg: 0.11017678360028377, std:0.031118629625552233\n",
      "Lambda: 0.7, alpha:0.15, avg: 0.10449269561677689, std:0.05067670517509682\n",
      "Lambda: 0.7, alpha:0.2, avg: 0.11730863989693693, std:0.0640436296130391\n",
      "Lambda: 0.7, alpha:0.25, avg: 0.13624789329444892, std:0.07330970794348511\n",
      "Lambda: 0.7, alpha:0.3, avg: 0.15641300412670636, std:0.08046434550870382\n",
      "Lambda: 0.7, alpha:0.35, avg: 0.17719889444496817, std:0.08606931810070993\n",
      "Lambda: 0.7, alpha:0.4, avg: 0.19935876687088144, std:0.09024616613305181\n",
      "Lambda: 0.7, alpha:0.45, avg: 0.22405545859926726, std:0.09353688100750339\n",
      "Lambda: 0.7, alpha:0.5, avg: 0.2531656014176174, std:0.09757554917526604\n",
      "Lambda: 0.7, alpha:0.55, avg: 0.29086559877592943, std:0.10731446230883115\n",
      "Lambda: 0.7, alpha:0.6, avg: 0.3502081875987591, std:0.13713654650743398\n",
      "Lambda: 0.8, alpha:0.0, avg: 0.23570226039551584, std:0.0\n",
      "Lambda: 0.8, alpha:0.05, avg: 0.1472433815093807, std:0.017737231770803146\n",
      "Lambda: 0.8, alpha:0.1, avg: 0.11685590458733999, std:0.042395267138049884\n",
      "Lambda: 0.8, alpha:0.15, avg: 0.12203692775277161, std:0.06211500739289391\n",
      "Lambda: 0.8, alpha:0.2, avg: 0.14195401200881158, std:0.07490882578221846\n",
      "Lambda: 0.8, alpha:0.25, avg: 0.16565410363400446, std:0.08346853800821764\n",
      "Lambda: 0.8, alpha:0.3, avg: 0.19065961132657744, std:0.08876043756572903\n",
      "Lambda: 0.8, alpha:0.35, avg: 0.21715866699964678, std:0.09127152287877952\n",
      "Lambda: 0.8, alpha:0.4, avg: 0.24576455150438278, std:0.09210541626177145\n",
      "Lambda: 0.8, alpha:0.45, avg: 0.2774892539597763, std:0.09276962321192657\n",
      "Lambda: 0.8, alpha:0.5, avg: 0.3140238353499923, std:0.09611539377910838\n",
      "Lambda: 0.8, alpha:0.55, avg: 0.359184658089255, std:0.10879399906415974\n",
      "Lambda: 0.8, alpha:0.6, avg: 0.42621723170322556, std:0.1439784129875279\n",
      "Lambda: 0.9, alpha:0.0, avg: 0.23570226039551584, std:0.0\n",
      "Lambda: 0.9, alpha:0.05, avg: 0.14819312362945836, std:0.027212242811485942\n",
      "Lambda: 0.9, alpha:0.1, avg: 0.1321927089754261, std:0.0560669284309744\n",
      "Lambda: 0.9, alpha:0.15, avg: 0.15001531976638827, std:0.0746760315798393\n",
      "Lambda: 0.9, alpha:0.2, avg: 0.17856284997302882, std:0.08471252759162112\n",
      "Lambda: 0.9, alpha:0.25, avg: 0.21061924535196194, std:0.08836308805933298\n",
      "Lambda: 0.9, alpha:0.3, avg: 0.24510388680018033, std:0.08737869573573807\n",
      "Lambda: 0.9, alpha:0.35, avg: 0.28234605125082196, std:0.08419739312213606\n",
      "Lambda: 0.9, alpha:0.4, avg: 0.32322845060251176, std:0.08244081269410732\n",
      "Lambda: 0.9, alpha:0.45, avg: 0.36922374109486206, std:0.08764627309455937\n",
      "Lambda: 0.9, alpha:0.5, avg: 0.4229497312220712, std:0.1072982994781068\n",
      "Lambda: 0.9, alpha:0.55, avg: 0.4921382944759541, std:0.14699321744472374\n",
      "Lambda: 0.9, alpha:0.6, avg: 0.6005139333114776, std:0.22811683556486004\n",
      "Lambda: 1, alpha:0.0, avg: 0.23570226039551584, std:0.0\n",
      "Lambda: 1, alpha:0.05, avg: 0.15543813600346051, std:0.04100419156583138\n",
      "Lambda: 1, alpha:0.1, avg: 0.15981159574823983, std:0.07187850398940435\n",
      "Lambda: 1, alpha:0.15, avg: 0.1932958450404806, std:0.08493272712969237\n",
      "Lambda: 1, alpha:0.2, avg: 0.236073653917278, std:0.0853990893027459\n",
      "Lambda: 1, alpha:0.25, avg: 0.28354975421042816, std:0.07953405832797196\n",
      "Lambda: 1, alpha:0.3, avg: 0.33536227490631404, std:0.07635575957900645\n",
      "Lambda: 1, alpha:0.35, avg: 0.3929983084331126, std:0.08897487557088593\n",
      "Lambda: 1, alpha:0.4, avg: 0.46013040857450044, std:0.1252810991006939\n",
      "Lambda: 1, alpha:0.45, avg: 0.5434178120612059, std:0.1896269651537589\n",
      "Lambda: 1, alpha:0.5, avg: 0.6558875602750277, std:0.3010066304697417\n",
      "Lambda: 1, alpha:0.55, avg: 0.8393363553655074, std:0.5104681434444016\n",
      "Lambda: 1, alpha:0.6, avg: 1.1853908767383077, std:1.0272906917988485\n"
     ]
    }
   ],
   "source": [
    "def exp_2_4():\n",
    "    actual = [1./6., 1./3., 1./2., 2./3., 5./6.]\n",
    "    w = np.array([0.5,0.5,0.5,0.5,0.5])\n",
    "    lambdas = [0., 0.1, 0.2, 0.3, 0.4, 0.5, 0.6, 0.7, 0.8, 0.9, 1]\n",
    "    #alpha = 0.10\n",
    "    alphas = [0.00, 0.05, 0.10, 0.15, 0.20, 0.25, 0.30, 0.35, 0.40, 0.45, 0.50, 0.55, 0.60]\n",
    "    #training_sets = generateSetsofBoundedWalks()\n",
    "    training_sets = walks  \n",
    "    ret = []\n",
    "    for lambda_e in lambdas:\n",
    "        alp_arr = []\n",
    "        for alpha in alphas:\n",
    "            cal = []\n",
    "            for train in  training_sets: \n",
    "                w_e = w\n",
    "                for seqence in train:\n",
    "                    #print(seqence)\n",
    "                    X = convertAlphaSeqToVectorSeq(seqence)\n",
    "                    #print(X[-1])               \n",
    "                    w_e = td_lambda_ex2(w_e, X, alpha,lambda_e)\n",
    "\n",
    "                RMSE = mean_squared_error(actual, w_e)**0.5\n",
    "                cal.append(RMSE)\n",
    "\n",
    "            cal = np.array(cal)\n",
    "            print(\"Lambda: {0}, alpha:{1}, avg: {2}, std:{3}\".format(lambda_e, alpha, np.average(cal), np.std(cal)))\n",
    "            avg = np.average(cal)\n",
    "            alp_arr.append((alpha, avg  if avg < 1.0 else np.nan))\n",
    "        \n",
    "        ret.append((lambda_e, alp_arr))\n",
    "        \n",
    "        #ret.append((lambda_e, np.average(cal)))\n",
    "            \n",
    "    return ret\n",
    "\n",
    "v = exp_2_4()\n",
    "\n",
    "#print(v)"
   ]
  },
  {
   "cell_type": "code",
   "execution_count": 79,
   "metadata": {
    "collapsed": false,
    "scrolled": true
   },
   "outputs": [
    {
     "data": {
      "image/png": "[encoded data removed]",
      "text/plain": [
       "<matplotlib.figure.Figure at 0x7ff3d415aba8>"
      ]
     },
     "metadata": {},
     "output_type": "display_data"
    }
   ],
   "source": [
    "def figure4_plot_1(lambda_arr, tup, ext_x = 0.1, ext_y = 0.02):\n",
    "    fig = plt.figure()\n",
    "    #fig.suptitle('Figure 4', fontsize=14, fontweight='bold')\n",
    "    \n",
    "    \n",
    "    for i in range(0,len(lambda_arr)):\n",
    "        ax = fig.add_subplot(111)\n",
    "        \n",
    "        if(lambda_arr[i] in [1, 0.0, 0.8, 0.3]):\n",
    "            #print(lambda_arr[i])\n",
    "            x,y = zip(*tup[i])\n",
    "            ax.set_xlabel('Alpha')\n",
    "            ax.set_ylabel('Error')\n",
    "            ax.plot(x,y,marker='o', label ='Lambda:{0}'.format(lambda_arr[i]))\n",
    "            \n",
    "    \n",
    "    ax.set_title('Figure 4: Average error on random walk problem after experiencing 10 sequences..')\n",
    "    plt.xlim(-0.1,0.7)\n",
    "    plt.ylim(0.05,0.7)\n",
    "    plt.legend(loc='upper left')\n",
    "    plt.show()\n",
    "    \n",
    "    \n",
    "#print(v)    \n",
    "lambda_arr,tup = zip(*v)\n",
    "#print(lambda_arr)\n",
    "#print(tup)\n",
    "x,y = zip(*tup[0])\n",
    "#print(x)\n",
    "#print(y)\n",
    "figure4_plot_1(lambda_arr,tup)"
   ]
  },
  {
   "cell_type": "markdown",
   "metadata": {},
   "source": [
    "### Figure 5"
   ]
  },
  {
   "cell_type": "code",
   "execution_count": 80,
   "metadata": {
    "collapsed": false
   },
   "outputs": [
    {
     "name": "stdout",
     "output_type": "stream",
     "text": [
      "[(0.0, 0.25), (0.1, 0.25), (0.2, 0.2), (0.3, 0.2), (0.4, 0.2), (0.5, 0.15), (0.6, 0.15), (0.7, 0.15), (0.8, 0.1), (0.9, 0.1), (1, 0.05)]\n"
     ]
    }
   ],
   "source": [
    "def getBestAlpha(lambda_arr, tup):\n",
    "    ret = []\n",
    "    for i in range(0, len(lambda_arr)):\n",
    "        x,y = zip(*tup[i])\n",
    "        y = np.array(y)\n",
    "        y= y[numpy.logical_not(numpy.isnan(y))]\n",
    "        index = np.argmin(y)\n",
    "        ret.append((lambda_arr[i], x[index]))  \n",
    "    return ret\n",
    "\n",
    "\n",
    "lambda_arr,tup = zip(*v)\n",
    "alphas = getBestAlpha(lambda_arr, tup)\n",
    "\n",
    "print(alphas)"
   ]
  },
  {
   "cell_type": "code",
   "execution_count": 81,
   "metadata": {
    "collapsed": false
   },
   "outputs": [
    {
     "name": "stdout",
     "output_type": "stream",
     "text": [
      "Lambda: 0.0, alpha:0.25, avg: 0.08286974481374415, std:0.02903946674814081\n",
      "Lambda: 0.1, alpha:0.25, avg: 0.08258565720700135, std:0.03217079263371251\n",
      "Lambda: 0.2, alpha:0.2, avg: 0.08214136263835665, std:0.02773411956675709\n",
      "Lambda: 0.3, alpha:0.2, avg: 0.08263934826579851, std:0.03251687109846499\n",
      "Lambda: 0.4, alpha:0.2, avg: 0.0851808785825747, std:0.03844609692598263\n",
      "Lambda: 0.5, alpha:0.15, avg: 0.0906672311359965, std:0.032355715361883274\n",
      "Lambda: 0.6, alpha:0.15, avg: 0.09485776142098004, std:0.0406471484270326\n",
      "Lambda: 0.7, alpha:0.15, avg: 0.10449269561677689, std:0.05067670517509682\n",
      "Lambda: 0.8, alpha:0.1, avg: 0.11685590458733999, std:0.042395267138049884\n",
      "Lambda: 0.9, alpha:0.1, avg: 0.1321927089754261, std:0.0560669284309744\n",
      "Lambda: 1, alpha:0.05, avg: 0.15543813600346051, std:0.04100419156583138\n",
      "[(0.0, 0.082869744813744151), (0.1, 0.082585657207001353), (0.2, 0.082141362638356655), (0.3, 0.08263934826579851), (0.4, 0.085180878582574698), (0.5, 0.090667231135996507), (0.6, 0.094857761420980041), (0.7, 0.10449269561677689), (0.8, 0.11685590458733999), (0.9, 0.13219270897542609), (1, 0.15543813600346051)]\n"
     ]
    }
   ],
   "source": [
    "def exp_2_5(alphas):\n",
    "    actual = [1./6., 1./3., 1./2., 2./3., 5./6.]\n",
    "    w = np.array([0.5,0.5,0.5,0.5,0.5])\n",
    "   \n",
    "    #training_sets = generateSetsofBoundedWalks()\n",
    "    training_sets = walks  \n",
    "    ret = []\n",
    "    for lambda_e, alpha in alphas:\n",
    "        cal = []\n",
    "        for train in  training_sets: \n",
    "            w_e = w\n",
    "            for seqence in train:\n",
    "                #print(seqence)\n",
    "                X = convertAlphaSeqToVectorSeq(seqence)\n",
    "                #print(X[-1])\n",
    "                w_e = td_lambda_ex2(w_e, X, alpha,lambda_e)\n",
    "\n",
    "            RMSE = mean_squared_error(actual, w_e)**0.5\n",
    "            cal.append(RMSE)\n",
    "        \n",
    "        cal = np.array(cal)\n",
    "        print(\"Lambda: {0}, alpha:{1}, avg: {2}, std:{3}\".format(lambda_e, alpha, np.average(cal), np.std(cal)))\n",
    "        ret.append((lambda_e, np.average(cal)))\n",
    "    return ret\n",
    "\n",
    "k = exp_2_5(alphas)\n",
    "\n",
    "print(k)"
   ]
  },
  {
   "cell_type": "code",
   "execution_count": 82,
   "metadata": {
    "collapsed": false
   },
   "outputs": [
    {
     "name": "stdout",
     "output_type": "stream",
     "text": [
      "[(0.0, 0.082869744813744151), (0.1, 0.082585657207001353), (0.2, 0.082141362638356655), (0.3, 0.08263934826579851), (0.4, 0.085180878582574698), (0.5, 0.090667231135996507), (0.6, 0.094857761420980041), (0.7, 0.10449269561677689), (0.8, 0.11685590458733999), (0.9, 0.13219270897542609), (1, 0.15543813600346051)]\n",
      "(0.0, 0.1, 0.2, 0.3, 0.4, 0.5, 0.6, 0.7, 0.8, 0.9, 1)\n"
     ]
    },
    {
     "data": {
      "image/png": "[encoded data removed]",
      "text/plain": [
       "<matplotlib.figure.Figure at 0x7ff3d40984a8>"
      ]
     },
     "metadata": {},
     "output_type": "display_data"
    }
   ],
   "source": [
    "def figure5_plot_1(x,y, ext_x = 0.1, ext_y = 0.02):\n",
    "    fig = plt.figure()\n",
    "    #fig.suptitle('Figure 5', fontsize=14, fontweight='bold')\n",
    "    ax = fig.add_subplot(111)\n",
    "    ax.set_title('Figure 5: Average error at best alpha value on random-walk problem..')\n",
    "\n",
    "    ax.set_xlabel('Lambda')\n",
    "    ax.set_ylabel('Error using Best Alpha')\n",
    "\n",
    "    \n",
    "    ax.plot(x,y,marker='o')\n",
    "    plt.xlim(min(x)-ext_x,max(x)+ext_x)\n",
    "    plt.ylim(min(y)-ext_y,max(y)+ext_y)\n",
    "    plt.show()\n",
    "    \n",
    "    \n",
    "print(k)    \n",
    "x,y = zip(*k)\n",
    "print(x)\n",
    "figure5_plot_1(x, y)"
   ]
  },
  {
   "cell_type": "code",
   "execution_count": null,
   "metadata": {
    "collapsed": true
   },
   "outputs": [],
   "source": []
  }
 ],
 "metadata": {
  "kernelspec": {
   "display_name": "Python 3",
   "language": "python",
   "name": "python3"
  },
  "language_info": {
   "codemirror_mode": {
    "name": "ipython",
    "version": 3
   },
   "file_extension": ".py",
   "mimetype": "text/x-python",
   "name": "python",
   "nbconvert_exporter": "python",
   "pygments_lexer": "ipython3",
   "version": "3.5.1"
  }
 },
 "nbformat": 4,
 "nbformat_minor": 0
}
