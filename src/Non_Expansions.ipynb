{
 "cells": [
  {
   "cell_type": "code",
   "execution_count": 1,
   "metadata": {
    "collapsed": false
   },
   "outputs": [],
   "source": [
    "import math\n",
    "\n",
    "def findPossibleMedians(xPresent, yPresent, k):\n",
    "    #magic = sys.maxint\n",
    "    x_a = list(xPresent)\n",
    "    y_a = list(yPresent)\n",
    "    #x.append(magic)\n",
    "    #y.append(magic)\n",
    "    x_a.sort()\n",
    "    y_a.sort()\n",
    "    xl_index = int(math.floor((len(x_a) - 1) / 2))\n",
    "    xh_index = xl_index + 1\n",
    "    yl_index = int(math.floor((len(y_a) - 1) / 2))\n",
    "    yh_index = yl_index + 1\n",
    "    \n",
    "    print xl_index, xh_index, yl_index, yh_index\n",
    "    \n",
    "    xl_bounds = x_a[xl_index]\n",
    "    xh_bounds = x_a[xh_index]\n",
    "    \n",
    "    \n",
    "    yl_bounds = y_a[yl_index]\n",
    "    yh_bounds = y_a[yh_index]\n",
    "    \n",
    "    #xl_maxlow = x_a[0]\n",
    "    #xh_maxhigh = x_a[len(x_a) - 1]\n",
    "    \n",
    "    #yl_maxlow = y_a[0]\n",
    "    #yh_maxhigh = y_a[len(y_a) - 1]\n",
    "    \n",
    "    ret = []\n",
    "    print xl_bounds, xh_bounds, yl_bounds, yh_bounds\n",
    "    #print xl_maxlow, xh_maxhigh, yl_maxlow, yh_maxhigh\n",
    "    \n",
    "    for x in range(xl_bounds, xh_bounds):\n",
    "        for y in range(yl_bounds, yh_bounds):\n",
    "            if(abs(x-y) == k):\n",
    "                ret.append((x, y, k))\n",
    "    return ret         "
   ]
  },
  {
   "cell_type": "code",
   "execution_count": 2,
   "metadata": {
    "collapsed": false
   },
   "outputs": [],
   "source": [
    "def getDifferenceVector(x_a,y_a):\n",
    "    ret = []\n",
    "    \n",
    "    for i in range(len(x_a)):\n",
    "        value = x_a[i] - y_a[i]\n",
    "        ret.append(abs(value))\n",
    "    \n",
    "    return ret"
   ]
  },
  {
   "cell_type": "code",
   "execution_count": 3,
   "metadata": {
    "collapsed": false
   },
   "outputs": [],
   "source": [
    "def getLInfinityDistance(x_a,y_a):\n",
    "    v = getDifferenceVector(x_a,y_a)\n",
    "    \n",
    "    return max(v)\n"
   ]
  },
  {
   "cell_type": "code",
   "execution_count": 4,
   "metadata": {
    "collapsed": true
   },
   "outputs": [],
   "source": [
    "def generateXY(x_a, y_a, xMissing, yMissing, x_value, y_value):\n",
    "    x = list(x_a)\n",
    "    y = list(y_a)\n",
    "    \n",
    "    x.insert(xMissing, x_value)\n",
    "    y.insert(yMissing, y_value)\n",
    "    \n",
    "    return (x,y)\n",
    "    "
   ]
  },
  {
   "cell_type": "code",
   "execution_count": 16,
   "metadata": {
    "collapsed": false
   },
   "outputs": [],
   "source": [
    "import sys\n",
    "\n",
    "def getValueNonExpansion(n, xPresent, yPresent, xMissing, yMissing, k):\n",
    "    \n",
    "    print xPresent\n",
    "    print yPresent\n",
    "    ret = sys.maxint\n",
    "    medians = findPossibleMedians(xPresent, yPresent, k)\n",
    "    ret_tuple = (0,0,0)\n",
    "    for median in medians:\n",
    "        x = median[0]\n",
    "        y = median[1]\n",
    "        x_a, y_a = generateXY(xPresent, yPresent, xMissing, yMissing, x, y)\n",
    "        value = getLInfinityDistance(x_a,y_a)\n",
    "        if(value <= ret):\n",
    "            ret = min(ret, getLInfinityDistance(x_a,y_a))\n",
    "            ret_tuple = (x,y,ret)\n",
    "        \n",
    "    return ret_tuple\n",
    "    "
   ]
  },
  {
   "cell_type": "code",
   "execution_count": 17,
   "metadata": {
    "collapsed": false
   },
   "outputs": [
    {
     "name": "stdout",
     "output_type": "stream",
     "text": [
      "[-70, 110]\n",
      "[32, -240]\n",
      "0 1 0 1\n",
      "-70 110 -240 32\n",
      "(109, -6, 350)\n"
     ]
    }
   ],
   "source": [
    "n=3\n",
    "xPresent=[-70, 110]\n",
    "yPresent=[32, -240]\n",
    "xMissing=1\n",
    "yMissing=1\n",
    "k=115\n",
    "\n",
    "\n",
    "print getValueNonExpansion(n, xPresent, yPresent, xMissing, yMissing, k)"
   ]
  },
  {
   "cell_type": "code",
   "execution_count": 18,
   "metadata": {
    "collapsed": false
   },
   "outputs": [
    {
     "name": "stdout",
     "output_type": "stream",
     "text": [
      "[-167, -204, 195, 255, -206, -135, 165, 239]\n",
      "[89, -141, 77, 133, -106, 85, -78, 91]\n",
      "3 4 3 4\n",
      "-135 165 77 85\n",
      "(128, 84, 361)\n"
     ]
    }
   ],
   "source": [
    "n=9\n",
    "xPresent=[-167, -204, 195, 255, -206, -135, 165, 239]\n",
    "yPresent=[89, -141, 77, 133, -106, 85, -78, 91]\n",
    "xMissing=3\n",
    "yMissing=5\n",
    "k=44\n",
    "\n",
    "print getValueNonExpansion(n, xPresent, yPresent, xMissing, yMissing, k)"
   ]
  },
  {
   "cell_type": "code",
   "execution_count": 19,
   "metadata": {
    "collapsed": false
   },
   "outputs": [
    {
     "name": "stdout",
     "output_type": "stream",
     "text": [
      "[212, -190, -93, 189, -211, 130]\n",
      "[-6, 213, -144, 60, -216, 172]\n",
      "2 3 2 3\n",
      "-93 130 -6 60\n",
      "(129, 21, 218)\n"
     ]
    }
   ],
   "source": [
    "n=7\n",
    "xPresent=[212, -190, -93, 189, -211, 130]\n",
    "yPresent=[-6, 213, -144, 60, -216, 172]\n",
    "xMissing=1\n",
    "yMissing=3\n",
    "k=108\n",
    "\n",
    "print getValueNonExpansion(n, xPresent, yPresent, xMissing, yMissing, k)"
   ]
  },
  {
   "cell_type": "code",
   "execution_count": 20,
   "metadata": {
    "collapsed": false
   },
   "outputs": [
    {
     "name": "stdout",
     "output_type": "stream",
     "text": [
      "[28, 189, -206, -14, -183, 129, 193, -103, 247, -120, -235, -28, -68, 139]\n",
      "[-141, 196, -10, -148, 3, -239, -117, 112, -190, 192, -128, -246, 31, 24]\n",
      "6 7 6 7\n",
      "-28 -14 -117 -10\n",
      "(-15, -39, 427)\n"
     ]
    }
   ],
   "source": [
    "n=15\n",
    "xPresent=[28, 189, -206, -14, -183, 129, 193, -103, 247, -120, -235, -28, -68, 139]\n",
    "yPresent=[-141, 196, -10, -148, 3, -239, -117, 112, -190, 192, -128, -246, 31, 24]\n",
    "xMissing=13\n",
    "yMissing=8\n",
    "k=24 \n",
    "\n",
    "print getValueNonExpansion(n, xPresent, yPresent, xMissing, yMissing, k)\n"
   ]
  },
  {
   "cell_type": "code",
   "execution_count": 21,
   "metadata": {
    "collapsed": false
   },
   "outputs": [
    {
     "name": "stdout",
     "output_type": "stream",
     "text": [
      "[-120, 66, 84, -102, 235, -226, -193, 111]\n",
      "[-88, 98, 233, 101, 128, 7, 127, -226]\n",
      "3 4 3 4\n",
      "-102 66 98 101\n",
      "(-70, 100, 337)\n"
     ]
    }
   ],
   "source": [
    "n=9\n",
    "xPresent=[-120, 66, 84, -102, 235, -226, -193, 111] \n",
    "yPresent=[-88, 98, 233, 101, 128, 7, 127, -226]\n",
    "xMissing=1\n",
    "yMissing=3\n",
    "k=170 \n",
    "\n",
    "print getValueNonExpansion(n, xPresent, yPresent, xMissing, yMissing, k)"
   ]
  },
  {
   "cell_type": "code",
   "execution_count": 22,
   "metadata": {
    "collapsed": false
   },
   "outputs": [
    {
     "name": "stdout",
     "output_type": "stream",
     "text": [
      "[-224, -142]\n",
      "[218, -252]\n",
      "0 1 0 1\n",
      "-224 -142 -252 218\n",
      "(-143, -85, 360)\n"
     ]
    }
   ],
   "source": [
    "n=3\n",
    "xPresent=[-224, -142]\n",
    "yPresent=[218, -252]\n",
    "xMissing=2\n",
    "yMissing=0\n",
    "k=58 \n",
    "\n",
    "print getValueNonExpansion(n, xPresent, yPresent, xMissing, yMissing, k)"
   ]
  },
  {
   "cell_type": "code",
   "execution_count": null,
   "metadata": {
    "collapsed": true
   },
   "outputs": [],
   "source": []
  }
 ],
 "metadata": {
  "kernelspec": {
   "display_name": "Python 2",
   "language": "python2",
   "name": "python2"
  },
  "language_info": {
   "codemirror_mode": {
    "name": "ipython",
    "version": 2
   },
   "file_extension": ".py",
   "mimetype": "text/x-python",
   "name": "python",
   "nbconvert_exporter": "python",
   "pygments_lexer": "ipython2",
   "version": "2.7.11"
  }
 },
 "nbformat": 4,
 "nbformat_minor": 0
}
